{
 "cells": [
  {
   "cell_type": "code",
   "execution_count": null,
   "id": "08cf5c4d",
   "metadata": {
    "deletable": false,
    "scrolled": true
   },
   "outputs": [],
   "source": [
    "feeder_name = input(\"Input Feeder Name:  \").strip().upper()\n"
   ]
  },
  {
   "cell_type": "code",
   "execution_count": null,
   "id": "e85b8b28",
   "metadata": {
    "deletable": false
   },
   "outputs": [],
   "source": [
    "#import pandas and open the IOS workboovk sheet1\n",
    "import pandas as pd\n",
    "IOS = pd.read_excel(r\"C:\\Path\\to\\Your\\Excelsheet.xls\",sheet_name='Sheet1')\n"
   ]
  },
  {
   "cell_type": "code",
   "execution_count": 24,
   "id": "53bf2578",
   "metadata": {
    "deletable": false
   },
   "outputs": [],
   "source": [
    "#Filter sheet1 by a specified feeder name \n",
    "\n",
    "filtered_IOS = IOS[IOS['FED_NAME'].str.contains(feeder_name,case=False, na=False)]\n",
    "num_rows = filtered_IOS.shape[0]\n",
    "#print(num_rows)\n",
    "fios = filtered_IOS\n"
   ]
  },
  {
   "cell_type": "code",
   "execution_count": 25,
   "id": "6f95e28b",
   "metadata": {
    "deletable": false,
    "editable": false
   },
   "outputs": [],
   "source": [
    "#Network level sheet\n",
    "nl_data = { 'Name': ['33kV','11kV','LT'],\n",
    "           'ShortName':['33kV','11kV','0.415kV'],\n",
    "           'Un [kv]':[33,11,0.415],\n",
    "       }\n",
    "nl = pd.DataFrame(nl_data)\n",
    "sheet_name = 'Network Level'\n",
    "#nl.to_excel('Testing123.xlsx',sheet_name=sheet_name,index=False)"
   ]
  },
  {
   "cell_type": "code",
   "execution_count": 26,
   "id": "4b5e15ac",
   "metadata": {
    "deletable": false
   },
   "outputs": [],
   "source": [
    "# copying line data from IOS file\n",
    "Node1 = fios['Node 1'].copy()\n",
    "Node2 = fios['Node 2'].copy()\n",
    "Element_name = []\n",
    "Short_name = Element_name\n",
    "N_level = fios['FED_VOLT'].copy()\n",
    "Switch = [0]*num_rows\n",
    "Line_Type = ['Overhead line']*num_rows\n",
    "q =[150]*num_rows\n",
    "WER =['No']*num_rows\n",
    "CL = ['Ground']*num_rows\n",
    "length = fios['Leng'].copy()\n",
    "p= [1]*num_rows\n",
    "f=[1]*num_rows\n",
    "r = [0.1889]*num_rows\n",
    "x =[0.3127]*num_rows\n",
    "c = [0]*num_rows\n",
    "Un = [P]*num_rows\n",
    "CM = ['AA']*num_rows\n",
    "va = [0]*num_rows\n",
    "fn =[50]*num_rows\n",
    "Ith =[0.25]*num_rows\n",
    "\n",
    "for i in range(num_rows):\n",
    "    Element_name.append(f'L{i+1}')\n",
    "     \n"
   ]
  },
  {
   "cell_type": "code",
   "execution_count": 27,
   "id": "3fba504f",
   "metadata": {
    "deletable": false,
    "editable": false
   },
   "outputs": [],
   "source": [
    "#Creating Line sheet in sample \n",
    "l_data = {\n",
    "    'Node 1':Node1,\n",
    "    'Node 2':Node2,\n",
    "    'Element Name': Element_name,\n",
    "    'Short Name': Short_name,\n",
    "    'Network Level': N_level,\n",
    "    'Switch':Switch,\n",
    "    'Line Type':Line_Type,\n",
    "    'q[mm]':q,\n",
    "    'WER':WER,\n",
    "    'CL':CL,\n",
    "    'l[km]':length,\n",
    "    'p':p,\n",
    "    'f':f,\n",
    "    'r[Ohm/km]':r,\n",
    "    'x[Ohm/km]':x,\n",
    "    'c[nf/km]':c,\n",
    "    'Un[kv]':Un,\n",
    "    'CM':CM,\n",
    "    'va[kW/km]':va,\n",
    "    'fn[Hz]':fn,\n",
    "    'Ith[kA]':Ith,\n",
    "    \n",
    "}\n",
    "\n",
    "l = pd.DataFrame(l_data)\n",
    "sheet_name = 'Line'\n",
    "#l.to_excel('Testing123.xlsx',sheet_name=sheet_name,index=False)"
   ]
  },
  {
   "cell_type": "code",
   "execution_count": null,
   "id": "3d941de5",
   "metadata": {
    "deletable": false
   },
   "outputs": [],
   "source": [
    "#opening two winding transformer data \n",
    "IOSt = pd.read_excel(r\"C:\\Path\\to\\Your\\Excelsheet.xls(Main).xls\",sheet_name='Two winding Transformer')\n",
    "#Filter sheet1 by a specified feeder name \n",
    "filtered_IOSt = IOSt[IOSt['FED_NAME'].str.contains(feeder_name,case=False, na=False)]\n",
    "num_rows = filtered_IOSt.shape[0]\n",
    "#print(num_rows)\n",
    "fiost = filtered_IOSt\n",
    "fiost.tail()"
   ]
  },
  {
   "cell_type": "code",
   "execution_count": 29,
   "id": "96859aca",
   "metadata": {
    "deletable": false
   },
   "outputs": [],
   "source": [
    "#copying transformer data from IOSt file\n",
    "\n",
    "Node1t = fiost['Feder Node'].copy()\n",
    "Node2t = fiost['NODE 2'].copy()\n",
    "Element_N = Node2t\n",
    "Short_N = Node2t\n",
    "Un1 = []\n",
    "Un2 = []\n",
    "for item in fiost['Primary/Secondary'].copy():\n",
    "    item = item[:-2]\n",
    "    voltages = item.split('/')\n",
    "    if len(voltages)== 2:\n",
    "        Un1.append(voltages[0])\n",
    "        Un2.append(voltages[1])\n",
    "        \n",
    "Network_L = [f'{voltages[0]}kV']*num_rows\n",
    "        \n",
    "Sn = fiost['Sn(CAP)'].copy()\n",
    "uk = ['']*num_rows\n",
    "ur = [1]*num_rows\n",
    "Vfe = [0]*num_rows\n",
    "i0 = [0]*num_rows\n",
    "VecGrp = ['DYN11']*num_rows"
   ]
  },
  {
   "cell_type": "code",
   "execution_count": 30,
   "id": "b649b0e3",
   "metadata": {
    "deletable": false
   },
   "outputs": [],
   "source": [
    "#Creating tranformer sheet in sample \n",
    "twt_data = {\n",
    "    'Node 1':Node1t,\n",
    "    'Node 2':Node2t,\n",
    "    'Element Name': Node2t,\n",
    "    'Short Name': Node2t,\n",
    "    'Network Level': Network_L,\n",
    "    'Un1[kV/km]':Un1,\n",
    "    'Un2[kV/km]':Un2,\n",
    "    'Sn[MVA]':Sn,\n",
    "    'Smax[MVA]':Sn,\n",
    "    'uk[%]':uk,\n",
    "    'ur[%]':ur,\n",
    "    'Vfe[kW]':Vfe,\n",
    "    'i0[%]':i0,\n",
    "    'VecGrp':VecGrp,\n",
    "    \n",
    "}\n",
    "\n",
    "twt = pd.DataFrame(twt_data)\n",
    "twt= twt.drop_duplicates(subset=['Node 2'], keep='first')\n",
    "sheet_name = 'Two Winding Transformer'\n",
    "#twt.to_excel('Testing123.xlsx',sheet_name=sheet_name,index=False)"
   ]
  },
  {
   "cell_type": "code",
   "execution_count": 31,
   "id": "4f576b38",
   "metadata": {
    "deletable": false
   },
   "outputs": [],
   "source": [
    "#Node sheet\n",
    "transformer_lat = fiost['LAT_DEC'].copy()\n",
    "transformer_long = fiost['LONG_DEC'].copy()\n",
    "lat_begin = fios['LatVertexBegin'].copy()\n",
    "long_begin = fios['LongVertexBegin'].copy()\n",
    "lat_end = fios['LatVertexEnd'].copy()\n",
    "long_end = fios['LongVertexEnd'].copy()\n",
    "\n",
    "Name = pd.concat([Node2t,Node1,Node2])\n",
    "lat = pd.concat([transformer_lat,lat_begin,lat_end])\n",
    "long = pd.concat([transformer_long,long_begin,long_end])\n",
    "num_rows = Name.shape[0]\n",
    "NT = ['Node']*num_rows\n",
    "Dgr = ['No']*num_rows\n",
    "Network = ['LT']*num_rows\n",
    "#print(num_rows)"
   ]
  },
  {
   "cell_type": "code",
   "execution_count": 32,
   "id": "d98e4c27",
   "metadata": {
    "deletable": false
   },
   "outputs": [],
   "source": [
    "#Creating node sheet in sample \n",
    "n_data = {\n",
    "    'Network Level':Network,\n",
    "    'Name':Name,\n",
    "    'Short Name':Name,\n",
    "    'Node Type':NT,\n",
    "    'Dgr.':Dgr,\n",
    "    'lat':lat,\n",
    "    'long':long\n",
    "    \n",
    "    \n",
    "}\n",
    "\n",
    "n=pd.DataFrame(n_data)\n",
    "n=n.drop_duplicates(subset=['Name','Short Name','lat','long'], keep='first')\n",
    "sheet_name = 'Node'\n",
    "#n.to_excel('Testing12.xlsx',sheet_name=sheet_name,index=False)"
   ]
  },
  {
   "cell_type": "code",
   "execution_count": 33,
   "id": "e546191e",
   "metadata": {
    "deletable": false,
    "editable": false
   },
   "outputs": [],
   "source": [
    "#load data \n",
    "num_rows = fiost.shape[0] \n",
    "LdT = ['LT']*num_rows\n",
    "LT = ['Load']*num_rows\n",
    "LFT = ['P and Q constant']*num_rows\n",
    "LI = ['Load Input']*num_rows\n",
    "u = [100]*num_rows\n",
    "f = [1]*num_rows\n"
   ]
  },
  {
   "cell_type": "code",
   "execution_count": 34,
   "id": "69508c93",
   "metadata": {
    "deletable": false,
    "editable": false
   },
   "outputs": [],
   "source": [
    "#creating load sheet in sample \n",
    "ld_data = {\n",
    "    'Node 1':Node2t,\n",
    "    'Element Name': Node2t,\n",
    "    'Short Name': Node2t,\n",
    "    'Network Level': LdT,\n",
    "    'Load Type':LT,\n",
    "    'Load Flow Type':LFT,\n",
    "    'Load Input':LI,\n",
    "    'P[MW]':Sn,\n",
    "    'Q[MVAr]':Sn,\n",
    "    'u[%]':u,\n",
    "    'fP':f,\n",
    "    'fQ':f\n",
    "    \n",
    "}\n",
    "\n",
    "ld = pd.DataFrame(ld_data)\n",
    "sheet_name = 'Load'\n",
    "#ld.to_excel('Testing123.xlsx',sheet_name=sheet_name,index=False)"
   ]
  },
  {
   "cell_type": "code",
   "execution_count": null,
   "id": "4428ee7b",
   "metadata": {
    "deletable": false,
    "scrolled": true
   },
   "outputs": [],
   "source": [
    "#writing all sheets to the workbook\n",
    "import openpyxl\n",
    "excel_file_path =fr\"C:\\Users\\TOBILOBA\\Desktop\\feeder folders\\ {feeder_name}.xlsx\"\n",
    "writer = pd.ExcelWriter(excel_file_path,engine='openpyxl')\n",
    "\n",
    "nl.to_excel(writer,sheet_name='Network Level',index=False)\n",
    "l.to_excel(writer,sheet_name='Line',index=False)\n",
    "twt.to_excel(writer,sheet_name='Two Winding Transformer',index=False)\n",
    "n.to_excel(writer,sheet_name='Node',index=False)\n",
    "ld.to_excel(writer,sheet_name='Load',index=False)\n",
    "\n",
    "writer.save()\n",
    "print('Done!')\n",
    "exit()"
   ]
  }
 ],
 "metadata": {
  "celltoolbar": "Edit Metadata",
  "kernelspec": {
   "display_name": "Python 3 (ipykernel)",
   "language": "python",
   "name": "python3"
  },
  "language_info": {
   "codemirror_mode": {
    "name": "ipython",
    "version": 3
   },
   "file_extension": ".py",
   "mimetype": "text/x-python",
   "name": "python",
   "nbconvert_exporter": "python",
   "pygments_lexer": "ipython3",
   "version": "3.10.9"
  }
 },
 "nbformat": 4,
 "nbformat_minor": 5
}
